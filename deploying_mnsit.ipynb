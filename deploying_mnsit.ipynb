{
 "cells": [
  {
   "cell_type": "code",
   "execution_count": 2,
   "metadata": {},
   "outputs": [],
   "source": [
    "import cv2 \n",
    "import tensorflow as tf\n",
    "new_model = tf.keras.models.load_model('mnsit.model')\n",
    "from keras.preprocessing.image import load_img\n",
    "from keras.preprocessing.image import img_to_array\n",
    "def load_image(filename):\n",
    "\timg = load_img(filename, grayscale=True, target_size=(28, 28))\n",
    "\timg = img_to_array(img)\n",
    "\timg = img.reshape(1, 28, 28, 1)\n",
    "\timg = img.astype('float32')\n",
    "\timg = img / 255.0\n",
    "\treturn img\n",
    "vid = cv2.VideoCapture(0) \n",
    "  \n",
    "while(True): \n",
    "      \n",
    "    ret, frame = vid.read() \n",
    "    cv2.imwrite(\"a.jpg\", frame)\n",
    "    img=load_image('a.jpg')\n",
    "    digit = new_model.predict_classes(img)\n",
    "    pred=str(digit[0])\n",
    "    font = cv2.FONT_HERSHEY_SIMPLEX \n",
    "  \n",
    "    org = (50, 50) \n",
    "\n",
    "    fontScale = 1\n",
    "\n",
    "    color = (255, 0, 0) \n",
    "\n",
    "    thickness = 2\n",
    "\n",
    "    image = cv2.putText(frame, pred, org, font,  \n",
    "                       fontScale, color, thickness, cv2.LINE_AA) \n",
    "\n",
    "\n",
    "    \n",
    "    cv2.imshow(\"khku\", frame)  \n",
    "\n",
    "    if cv2.waitKey(1) & 0xFF == ord('q'): \n",
    "        break\n",
    "  \n",
    "vid.release() \n",
    "cv2.destroyAllWindows()"
   ]
  },
  {
   "cell_type": "code",
   "execution_count": null,
   "metadata": {},
   "outputs": [],
   "source": []
  }
 ],
 "metadata": {
  "kernelspec": {
   "display_name": "Python 3",
   "language": "python",
   "name": "python3"
  },
  "language_info": {
   "codemirror_mode": {
    "name": "ipython",
    "version": 3
   },
   "file_extension": ".py",
   "mimetype": "text/x-python",
   "name": "python",
   "nbconvert_exporter": "python",
   "pygments_lexer": "ipython3",
   "version": "3.7.4"
  }
 },
 "nbformat": 4,
 "nbformat_minor": 2
}
